{
 "cells": [
  {
   "cell_type": "markdown",
   "id": "469ce0be-a341-4615-b960-4e4cd3c1ec4c",
   "metadata": {},
   "source": [
    "This notebook is a place to practice embeddings and clustering. My goal is to learn a general pattern for identifying groups of similar items, whether they are ridehailing trips, customer session journeys, retail items, etc. I'll be closely following [this Medium post by Zhi Li](https://towardsdatascience.com/a-beginners-guide-to-word-embedding-with-gensim-word2vec-model-5970fa56cc92)."
   ]
  },
  {
   "cell_type": "markdown",
   "id": "f07d6d6e-eb88-4de5-bf51-689c5118aa1d",
   "metadata": {},
   "source": [
    "# Word2vec Embeddings\n",
    "Word2vec is a popular technique to learn word embeddings using a two-layer neural network. In the CBOW (continuous bag of words) approach, the NN uses context to predict a target word; while skip-gram uses a word to predict a target context.\n",
    "\n",
    "We'll use the `gensim` natural language Python library as an implementation of word2vec. "
   ]
  },
  {
   "cell_type": "code",
   "execution_count": 2,
   "id": "608bfa26-543c-4e9f-9f2a-ee0cd4791edd",
   "metadata": {},
   "outputs": [],
   "source": [
    "import gensim"
   ]
  },
  {
   "cell_type": "markdown",
   "id": "58084871-0139-43f2-8737-1d19126b7b93",
   "metadata": {},
   "source": [
    "# Car Data\n",
    "We'll read in a [car dataset downloaded from Kaggle](https://www.kaggle.com/datasets/CooperUnion/cardataset?resource=download)."
   ]
  },
  {
   "cell_type": "code",
   "execution_count": 4,
   "id": "9d94623b-78c4-4c1b-92b3-b7399167a7e8",
   "metadata": {},
   "outputs": [],
   "source": [
    "import pandas as pd"
   ]
  },
  {
   "cell_type": "code",
   "execution_count": 5,
   "id": "b1afa3c5-8248-44d6-8957-99bc47c904f5",
   "metadata": {},
   "outputs": [],
   "source": [
    "df = pd.read_csv('./data/raw_car_data.csv')"
   ]
  },
  {
   "cell_type": "code",
   "execution_count": 6,
   "id": "e39d3fd9-bf8a-4de0-9542-b2beb91108f8",
   "metadata": {},
   "outputs": [
    {
     "name": "stdout",
     "output_type": "stream",
     "text": [
      "(11914, 16)\n"
     ]
    }
   ],
   "source": [
    "print(df.shape)"
   ]
  },
  {
   "cell_type": "code",
   "execution_count": 7,
   "id": "661b0ee0-d8a2-4757-ada3-7232f7a34ddd",
   "metadata": {},
   "outputs": [
    {
     "data": {
      "text/html": [
       "<div>\n",
       "<style scoped>\n",
       "    .dataframe tbody tr th:only-of-type {\n",
       "        vertical-align: middle;\n",
       "    }\n",
       "\n",
       "    .dataframe tbody tr th {\n",
       "        vertical-align: top;\n",
       "    }\n",
       "\n",
       "    .dataframe thead th {\n",
       "        text-align: right;\n",
       "    }\n",
       "</style>\n",
       "<table border=\"1\" class=\"dataframe\">\n",
       "  <thead>\n",
       "    <tr style=\"text-align: right;\">\n",
       "      <th></th>\n",
       "      <th>Make</th>\n",
       "      <th>Model</th>\n",
       "      <th>Year</th>\n",
       "      <th>Engine Fuel Type</th>\n",
       "      <th>Engine HP</th>\n",
       "      <th>Engine Cylinders</th>\n",
       "      <th>Transmission Type</th>\n",
       "      <th>Driven_Wheels</th>\n",
       "      <th>Number of Doors</th>\n",
       "      <th>Market Category</th>\n",
       "      <th>Vehicle Size</th>\n",
       "      <th>Vehicle Style</th>\n",
       "      <th>highway MPG</th>\n",
       "      <th>city mpg</th>\n",
       "      <th>Popularity</th>\n",
       "      <th>MSRP</th>\n",
       "    </tr>\n",
       "  </thead>\n",
       "  <tbody>\n",
       "    <tr>\n",
       "      <th>0</th>\n",
       "      <td>BMW</td>\n",
       "      <td>1 Series M</td>\n",
       "      <td>2011</td>\n",
       "      <td>premium unleaded (required)</td>\n",
       "      <td>335.0</td>\n",
       "      <td>6.0</td>\n",
       "      <td>MANUAL</td>\n",
       "      <td>rear wheel drive</td>\n",
       "      <td>2.0</td>\n",
       "      <td>Factory Tuner,Luxury,High-Performance</td>\n",
       "      <td>Compact</td>\n",
       "      <td>Coupe</td>\n",
       "      <td>26</td>\n",
       "      <td>19</td>\n",
       "      <td>3916</td>\n",
       "      <td>46135</td>\n",
       "    </tr>\n",
       "    <tr>\n",
       "      <th>1</th>\n",
       "      <td>BMW</td>\n",
       "      <td>1 Series</td>\n",
       "      <td>2011</td>\n",
       "      <td>premium unleaded (required)</td>\n",
       "      <td>300.0</td>\n",
       "      <td>6.0</td>\n",
       "      <td>MANUAL</td>\n",
       "      <td>rear wheel drive</td>\n",
       "      <td>2.0</td>\n",
       "      <td>Luxury,Performance</td>\n",
       "      <td>Compact</td>\n",
       "      <td>Convertible</td>\n",
       "      <td>28</td>\n",
       "      <td>19</td>\n",
       "      <td>3916</td>\n",
       "      <td>40650</td>\n",
       "    </tr>\n",
       "    <tr>\n",
       "      <th>2</th>\n",
       "      <td>BMW</td>\n",
       "      <td>1 Series</td>\n",
       "      <td>2011</td>\n",
       "      <td>premium unleaded (required)</td>\n",
       "      <td>300.0</td>\n",
       "      <td>6.0</td>\n",
       "      <td>MANUAL</td>\n",
       "      <td>rear wheel drive</td>\n",
       "      <td>2.0</td>\n",
       "      <td>Luxury,High-Performance</td>\n",
       "      <td>Compact</td>\n",
       "      <td>Coupe</td>\n",
       "      <td>28</td>\n",
       "      <td>20</td>\n",
       "      <td>3916</td>\n",
       "      <td>36350</td>\n",
       "    </tr>\n",
       "    <tr>\n",
       "      <th>3</th>\n",
       "      <td>BMW</td>\n",
       "      <td>1 Series</td>\n",
       "      <td>2011</td>\n",
       "      <td>premium unleaded (required)</td>\n",
       "      <td>230.0</td>\n",
       "      <td>6.0</td>\n",
       "      <td>MANUAL</td>\n",
       "      <td>rear wheel drive</td>\n",
       "      <td>2.0</td>\n",
       "      <td>Luxury,Performance</td>\n",
       "      <td>Compact</td>\n",
       "      <td>Coupe</td>\n",
       "      <td>28</td>\n",
       "      <td>18</td>\n",
       "      <td>3916</td>\n",
       "      <td>29450</td>\n",
       "    </tr>\n",
       "    <tr>\n",
       "      <th>4</th>\n",
       "      <td>BMW</td>\n",
       "      <td>1 Series</td>\n",
       "      <td>2011</td>\n",
       "      <td>premium unleaded (required)</td>\n",
       "      <td>230.0</td>\n",
       "      <td>6.0</td>\n",
       "      <td>MANUAL</td>\n",
       "      <td>rear wheel drive</td>\n",
       "      <td>2.0</td>\n",
       "      <td>Luxury</td>\n",
       "      <td>Compact</td>\n",
       "      <td>Convertible</td>\n",
       "      <td>28</td>\n",
       "      <td>18</td>\n",
       "      <td>3916</td>\n",
       "      <td>34500</td>\n",
       "    </tr>\n",
       "  </tbody>\n",
       "</table>\n",
       "</div>"
      ],
      "text/plain": [
       "  Make       Model  Year             Engine Fuel Type  Engine HP  \\\n",
       "0  BMW  1 Series M  2011  premium unleaded (required)      335.0   \n",
       "1  BMW    1 Series  2011  premium unleaded (required)      300.0   \n",
       "2  BMW    1 Series  2011  premium unleaded (required)      300.0   \n",
       "3  BMW    1 Series  2011  premium unleaded (required)      230.0   \n",
       "4  BMW    1 Series  2011  premium unleaded (required)      230.0   \n",
       "\n",
       "   Engine Cylinders Transmission Type     Driven_Wheels  Number of Doors  \\\n",
       "0               6.0            MANUAL  rear wheel drive              2.0   \n",
       "1               6.0            MANUAL  rear wheel drive              2.0   \n",
       "2               6.0            MANUAL  rear wheel drive              2.0   \n",
       "3               6.0            MANUAL  rear wheel drive              2.0   \n",
       "4               6.0            MANUAL  rear wheel drive              2.0   \n",
       "\n",
       "                         Market Category Vehicle Size Vehicle Style  \\\n",
       "0  Factory Tuner,Luxury,High-Performance      Compact         Coupe   \n",
       "1                     Luxury,Performance      Compact   Convertible   \n",
       "2                Luxury,High-Performance      Compact         Coupe   \n",
       "3                     Luxury,Performance      Compact         Coupe   \n",
       "4                                 Luxury      Compact   Convertible   \n",
       "\n",
       "   highway MPG  city mpg  Popularity   MSRP  \n",
       "0           26        19        3916  46135  \n",
       "1           28        19        3916  40650  \n",
       "2           28        20        3916  36350  \n",
       "3           28        18        3916  29450  \n",
       "4           28        18        3916  34500  "
      ]
     },
     "execution_count": 7,
     "metadata": {},
     "output_type": "execute_result"
    }
   ],
   "source": [
    "df.head()"
   ]
  },
  {
   "cell_type": "code",
   "execution_count": 15,
   "id": "23852489-0e59-4372-a3bc-63da5012b838",
   "metadata": {},
   "outputs": [],
   "source": [
    "df_model = (\n",
    "    df\n",
    "    .groupby(['Make', 'Model'])\n",
    "    .agg({\n",
    "        'Year': 'first',\n",
    "        'Engine Fuel Type': 'first',\n",
    "        'Engine HP': 'first',\n",
    "        'Engine Cylinders': 'first',\n",
    "        'Transmission Type': 'first',\n",
    "        'Driven_Wheels': 'first',\n",
    "        'Number of Doors': 'first',\n",
    "        'Market Category': 'first',\n",
    "        'Vehicle Size': 'first',\n",
    "        'Vehicle Style': 'first',\n",
    "        'highway MPG': 'first',\n",
    "        'city mpg': 'first',\n",
    "        'Popularity': 'first',\n",
    "        'MSRP': 'first',\n",
    "    })\n",
    "    .reset_index()\n",
    ")"
   ]
  },
  {
   "cell_type": "code",
   "execution_count": 16,
   "id": "710da397-0bc9-4f57-a469-1c6cf76146a6",
   "metadata": {},
   "outputs": [
    {
     "data": {
      "text/plain": [
       "(928, 16)"
      ]
     },
     "execution_count": 16,
     "metadata": {},
     "output_type": "execute_result"
    }
   ],
   "source": [
    "df_model.shape"
   ]
  },
  {
   "cell_type": "code",
   "execution_count": 17,
   "id": "10d090c8-7576-4e9f-9c41-e1a75750857b",
   "metadata": {},
   "outputs": [
    {
     "data": {
      "text/html": [
       "<div>\n",
       "<style scoped>\n",
       "    .dataframe tbody tr th:only-of-type {\n",
       "        vertical-align: middle;\n",
       "    }\n",
       "\n",
       "    .dataframe tbody tr th {\n",
       "        vertical-align: top;\n",
       "    }\n",
       "\n",
       "    .dataframe thead th {\n",
       "        text-align: right;\n",
       "    }\n",
       "</style>\n",
       "<table border=\"1\" class=\"dataframe\">\n",
       "  <thead>\n",
       "    <tr style=\"text-align: right;\">\n",
       "      <th></th>\n",
       "      <th>Make</th>\n",
       "      <th>Model</th>\n",
       "      <th>Year</th>\n",
       "      <th>Engine Fuel Type</th>\n",
       "      <th>Engine HP</th>\n",
       "      <th>Engine Cylinders</th>\n",
       "      <th>Transmission Type</th>\n",
       "      <th>Driven_Wheels</th>\n",
       "      <th>Number of Doors</th>\n",
       "      <th>Market Category</th>\n",
       "      <th>Vehicle Size</th>\n",
       "      <th>Vehicle Style</th>\n",
       "      <th>highway MPG</th>\n",
       "      <th>city mpg</th>\n",
       "      <th>Popularity</th>\n",
       "      <th>MSRP</th>\n",
       "    </tr>\n",
       "  </thead>\n",
       "  <tbody>\n",
       "    <tr>\n",
       "      <th>0</th>\n",
       "      <td>Acura</td>\n",
       "      <td>CL</td>\n",
       "      <td>2001</td>\n",
       "      <td>premium unleaded (required)</td>\n",
       "      <td>225.0</td>\n",
       "      <td>6.0</td>\n",
       "      <td>AUTOMATIC</td>\n",
       "      <td>front wheel drive</td>\n",
       "      <td>2.0</td>\n",
       "      <td>Luxury</td>\n",
       "      <td>Midsize</td>\n",
       "      <td>Coupe</td>\n",
       "      <td>27</td>\n",
       "      <td>17</td>\n",
       "      <td>204</td>\n",
       "      <td>29980</td>\n",
       "    </tr>\n",
       "    <tr>\n",
       "      <th>1</th>\n",
       "      <td>Acura</td>\n",
       "      <td>ILX</td>\n",
       "      <td>2015</td>\n",
       "      <td>premium unleaded (recommended)</td>\n",
       "      <td>201.0</td>\n",
       "      <td>4.0</td>\n",
       "      <td>MANUAL</td>\n",
       "      <td>front wheel drive</td>\n",
       "      <td>4.0</td>\n",
       "      <td>Luxury,Performance</td>\n",
       "      <td>Compact</td>\n",
       "      <td>Sedan</td>\n",
       "      <td>31</td>\n",
       "      <td>22</td>\n",
       "      <td>204</td>\n",
       "      <td>29350</td>\n",
       "    </tr>\n",
       "    <tr>\n",
       "      <th>2</th>\n",
       "      <td>Acura</td>\n",
       "      <td>ILX Hybrid</td>\n",
       "      <td>2014</td>\n",
       "      <td>premium unleaded (recommended)</td>\n",
       "      <td>111.0</td>\n",
       "      <td>4.0</td>\n",
       "      <td>AUTOMATIC</td>\n",
       "      <td>front wheel drive</td>\n",
       "      <td>4.0</td>\n",
       "      <td>Luxury,Hybrid</td>\n",
       "      <td>Compact</td>\n",
       "      <td>Sedan</td>\n",
       "      <td>38</td>\n",
       "      <td>39</td>\n",
       "      <td>204</td>\n",
       "      <td>28900</td>\n",
       "    </tr>\n",
       "    <tr>\n",
       "      <th>3</th>\n",
       "      <td>Acura</td>\n",
       "      <td>Integra</td>\n",
       "      <td>1999</td>\n",
       "      <td>regular unleaded</td>\n",
       "      <td>140.0</td>\n",
       "      <td>4.0</td>\n",
       "      <td>MANUAL</td>\n",
       "      <td>front wheel drive</td>\n",
       "      <td>4.0</td>\n",
       "      <td>Luxury</td>\n",
       "      <td>Compact</td>\n",
       "      <td>Sedan</td>\n",
       "      <td>29</td>\n",
       "      <td>22</td>\n",
       "      <td>204</td>\n",
       "      <td>2827</td>\n",
       "    </tr>\n",
       "    <tr>\n",
       "      <th>4</th>\n",
       "      <td>Acura</td>\n",
       "      <td>Legend</td>\n",
       "      <td>1993</td>\n",
       "      <td>regular unleaded</td>\n",
       "      <td>200.0</td>\n",
       "      <td>6.0</td>\n",
       "      <td>MANUAL</td>\n",
       "      <td>front wheel drive</td>\n",
       "      <td>4.0</td>\n",
       "      <td>Luxury</td>\n",
       "      <td>Midsize</td>\n",
       "      <td>Sedan</td>\n",
       "      <td>23</td>\n",
       "      <td>15</td>\n",
       "      <td>204</td>\n",
       "      <td>2000</td>\n",
       "    </tr>\n",
       "  </tbody>\n",
       "</table>\n",
       "</div>"
      ],
      "text/plain": [
       "    Make       Model  Year                Engine Fuel Type  Engine HP  \\\n",
       "0  Acura          CL  2001     premium unleaded (required)      225.0   \n",
       "1  Acura         ILX  2015  premium unleaded (recommended)      201.0   \n",
       "2  Acura  ILX Hybrid  2014  premium unleaded (recommended)      111.0   \n",
       "3  Acura     Integra  1999                regular unleaded      140.0   \n",
       "4  Acura      Legend  1993                regular unleaded      200.0   \n",
       "\n",
       "   Engine Cylinders Transmission Type      Driven_Wheels  Number of Doors  \\\n",
       "0               6.0         AUTOMATIC  front wheel drive              2.0   \n",
       "1               4.0            MANUAL  front wheel drive              4.0   \n",
       "2               4.0         AUTOMATIC  front wheel drive              4.0   \n",
       "3               4.0            MANUAL  front wheel drive              4.0   \n",
       "4               6.0            MANUAL  front wheel drive              4.0   \n",
       "\n",
       "      Market Category Vehicle Size Vehicle Style  highway MPG  city mpg  \\\n",
       "0              Luxury      Midsize         Coupe           27        17   \n",
       "1  Luxury,Performance      Compact         Sedan           31        22   \n",
       "2       Luxury,Hybrid      Compact         Sedan           38        39   \n",
       "3              Luxury      Compact         Sedan           29        22   \n",
       "4              Luxury      Midsize         Sedan           23        15   \n",
       "\n",
       "   Popularity   MSRP  \n",
       "0         204  29980  \n",
       "1         204  29350  \n",
       "2         204  28900  \n",
       "3         204   2827  \n",
       "4         204   2000  "
      ]
     },
     "execution_count": 17,
     "metadata": {},
     "output_type": "execute_result"
    }
   ],
   "source": [
    "df_model.head()"
   ]
  },
  {
   "cell_type": "markdown",
   "id": "a6e8e4d5-238c-4a5d-8d38-a93e61a7a3f3",
   "metadata": {},
   "source": [
    "# Data Prep\n",
    "The expected input to `Word2Vec` is a list of lists, where the latter lists represent sequences of tokens.\n",
    "\n",
    "We're going to turn the vehicle data from `df_model` into this list of lists."
   ]
  },
  {
   "cell_type": "code",
   "execution_count": 461,
   "id": "862bef94-d12a-4801-8115-5125966df8ae",
   "metadata": {},
   "outputs": [],
   "source": [
    "df_train = pd.DataFrame()\n",
    "# df_train['engine_fuel_type'] = df_model['Engine Fuel Type']\n",
    "df_train['highway_mpg'] = df_model['highway MPG'].astype(str) + ' mpg'\n",
    "# df_train['engine_cylinders'] = 'engine cylinders ' + df_model['Engine Cylinders'].astype(str)\n",
    "# df_train['transmission_type'] = df_model['Transmission Type']\n",
    "# df_train['driven_wheels'] = df_model['Driven_Wheels']\n",
    "# df_train['market_category'] = [str(x).split(',')[-1] for x in df_model['Market Category'].fillna('Default')]\n",
    "df_train['market_category'] = df_model['Market Category'].fillna('Default')\n",
    "df_train['vehicle_size'] = df_model['Vehicle Size']\n",
    "df_train['vehicle_style'] = df_model['Vehicle Style']\n",
    "df_train['make_model'] = df_model['Make'] + ' ' + df_model['Model']"
   ]
  },
  {
   "cell_type": "code",
   "execution_count": 462,
   "id": "f0057ef4-51ea-424e-8753-4ee99c037b87",
   "metadata": {},
   "outputs": [
    {
     "data": {
      "text/plain": [
       "(928, 5)"
      ]
     },
     "execution_count": 462,
     "metadata": {},
     "output_type": "execute_result"
    }
   ],
   "source": [
    "df_train.shape"
   ]
  },
  {
   "cell_type": "code",
   "execution_count": 463,
   "id": "404df810-bb99-41bb-9a64-34aa315529e1",
   "metadata": {},
   "outputs": [
    {
     "data": {
      "text/html": [
       "<div>\n",
       "<style scoped>\n",
       "    .dataframe tbody tr th:only-of-type {\n",
       "        vertical-align: middle;\n",
       "    }\n",
       "\n",
       "    .dataframe tbody tr th {\n",
       "        vertical-align: top;\n",
       "    }\n",
       "\n",
       "    .dataframe thead th {\n",
       "        text-align: right;\n",
       "    }\n",
       "</style>\n",
       "<table border=\"1\" class=\"dataframe\">\n",
       "  <thead>\n",
       "    <tr style=\"text-align: right;\">\n",
       "      <th></th>\n",
       "      <th>highway_mpg</th>\n",
       "      <th>market_category</th>\n",
       "      <th>vehicle_size</th>\n",
       "      <th>vehicle_style</th>\n",
       "      <th>make_model</th>\n",
       "    </tr>\n",
       "  </thead>\n",
       "  <tbody>\n",
       "    <tr>\n",
       "      <th>0</th>\n",
       "      <td>27 mpg</td>\n",
       "      <td>Luxury</td>\n",
       "      <td>Midsize</td>\n",
       "      <td>Coupe</td>\n",
       "      <td>Acura CL</td>\n",
       "    </tr>\n",
       "    <tr>\n",
       "      <th>1</th>\n",
       "      <td>31 mpg</td>\n",
       "      <td>Luxury,Performance</td>\n",
       "      <td>Compact</td>\n",
       "      <td>Sedan</td>\n",
       "      <td>Acura ILX</td>\n",
       "    </tr>\n",
       "    <tr>\n",
       "      <th>2</th>\n",
       "      <td>38 mpg</td>\n",
       "      <td>Luxury,Hybrid</td>\n",
       "      <td>Compact</td>\n",
       "      <td>Sedan</td>\n",
       "      <td>Acura ILX Hybrid</td>\n",
       "    </tr>\n",
       "    <tr>\n",
       "      <th>3</th>\n",
       "      <td>29 mpg</td>\n",
       "      <td>Luxury</td>\n",
       "      <td>Compact</td>\n",
       "      <td>Sedan</td>\n",
       "      <td>Acura Integra</td>\n",
       "    </tr>\n",
       "    <tr>\n",
       "      <th>4</th>\n",
       "      <td>23 mpg</td>\n",
       "      <td>Luxury</td>\n",
       "      <td>Midsize</td>\n",
       "      <td>Sedan</td>\n",
       "      <td>Acura Legend</td>\n",
       "    </tr>\n",
       "  </tbody>\n",
       "</table>\n",
       "</div>"
      ],
      "text/plain": [
       "  highway_mpg     market_category vehicle_size vehicle_style        make_model\n",
       "0      27 mpg              Luxury      Midsize         Coupe          Acura CL\n",
       "1      31 mpg  Luxury,Performance      Compact         Sedan         Acura ILX\n",
       "2      38 mpg       Luxury,Hybrid      Compact         Sedan  Acura ILX Hybrid\n",
       "3      29 mpg              Luxury      Compact         Sedan     Acura Integra\n",
       "4      23 mpg              Luxury      Midsize         Sedan      Acura Legend"
      ]
     },
     "execution_count": 463,
     "metadata": {},
     "output_type": "execute_result"
    }
   ],
   "source": [
    "df_train.head()"
   ]
  },
  {
   "cell_type": "code",
   "execution_count": 464,
   "id": "1368a2de-da0b-4d28-844e-e4bb0e1bd4b7",
   "metadata": {},
   "outputs": [],
   "source": [
    "df_single_column = df_train.apply(lambda x: ','.join(x.astype(str)), axis=1)"
   ]
  },
  {
   "cell_type": "code",
   "execution_count": 465,
   "id": "17176749-7427-4906-841c-7a63c75a6fd7",
   "metadata": {},
   "outputs": [
    {
     "data": {
      "text/plain": [
       "(928,)"
      ]
     },
     "execution_count": 465,
     "metadata": {},
     "output_type": "execute_result"
    }
   ],
   "source": [
    "df_single_column.shape"
   ]
  },
  {
   "cell_type": "code",
   "execution_count": 466,
   "id": "9f1c11ee-d4a5-4831-a4b9-6f672651bff2",
   "metadata": {},
   "outputs": [
    {
     "data": {
      "text/plain": [
       "0                 27 mpg,Luxury,Midsize,Coupe,Acura CL\n",
       "1    31 mpg,Luxury,Performance,Compact,Sedan,Acura ILX\n",
       "2    38 mpg,Luxury,Hybrid,Compact,Sedan,Acura ILX H...\n",
       "3            29 mpg,Luxury,Compact,Sedan,Acura Integra\n",
       "4             23 mpg,Luxury,Midsize,Sedan,Acura Legend\n",
       "dtype: object"
      ]
     },
     "execution_count": 466,
     "metadata": {},
     "output_type": "execute_result"
    }
   ],
   "source": [
    "df_single_column.head()"
   ]
  },
  {
   "cell_type": "code",
   "execution_count": 467,
   "id": "351c2247-4047-4ed1-9ed3-6a59c67911d1",
   "metadata": {},
   "outputs": [],
   "source": [
    "import re"
   ]
  },
  {
   "cell_type": "code",
   "execution_count": 468,
   "id": "73231e29-89dd-4726-b230-396d05490d6b",
   "metadata": {},
   "outputs": [],
   "source": [
    "# sentences = [item.split(',') for item in df_single_column]\n",
    "sentences = [re.split('\\W+', item)[:-2] + [item.split(',')[-1]] for item in df_single_column]"
   ]
  },
  {
   "cell_type": "code",
   "execution_count": 469,
   "id": "ae42b9f1-7ee7-4fc5-993f-5d2422bebbb2",
   "metadata": {},
   "outputs": [
    {
     "data": {
      "text/plain": [
       "[['27', 'mpg', 'Luxury', 'Midsize', 'Coupe', 'Acura CL'],\n",
       " ['31', 'mpg', 'Luxury', 'Performance', 'Compact', 'Sedan', 'Acura ILX']]"
      ]
     },
     "execution_count": 469,
     "metadata": {},
     "output_type": "execute_result"
    }
   ],
   "source": [
    "sentences[:2]"
   ]
  },
  {
   "cell_type": "markdown",
   "id": "13487833-551a-4976-9491-299a2df27608",
   "metadata": {},
   "source": [
    "# Train word2vec"
   ]
  },
  {
   "cell_type": "code",
   "execution_count": 470,
   "id": "e6f512ab-7884-4056-bf8c-fa78af192f6c",
   "metadata": {},
   "outputs": [],
   "source": [
    "from gensim.models import Word2Vec"
   ]
  },
  {
   "cell_type": "code",
   "execution_count": 500,
   "id": "de307287-a2da-4850-9416-7fb750549f63",
   "metadata": {},
   "outputs": [],
   "source": [
    "car_model_model = Word2Vec(\n",
    "    sentences,\n",
    "    min_count=1,\n",
    "    window=15,\n",
    "    workers=3,\n",
    "    vector_size=10,\n",
    "    sg=0,\n",
    ")   \n",
    "    "
   ]
  },
  {
   "cell_type": "code",
   "execution_count": 501,
   "id": "3317dce7-63a1-4789-a673-3801c67f02af",
   "metadata": {},
   "outputs": [
    {
     "data": {
      "text/plain": [
       "array([ 0.09918414, -0.04570673, -0.0536518 ,  0.07772738, -0.0920788 ,\n",
       "       -0.0762367 , -0.05244715, -0.00252737,  0.04264588,  0.07753378],\n",
       "      dtype=float32)"
      ]
     },
     "execution_count": 501,
     "metadata": {},
     "output_type": "execute_result"
    }
   ],
   "source": [
    "car_model_model.wv['Acura ILX']"
   ]
  },
  {
   "cell_type": "code",
   "execution_count": 502,
   "id": "0c8df55e-9955-4b59-8c3a-dc864fd074a9",
   "metadata": {},
   "outputs": [
    {
     "data": {
      "text/plain": [
       "[('Chevrolet Corsica', 0.9386063814163208),\n",
       " ('Scion xB', 0.8791967630386353),\n",
       " ('Cadillac Allante', 0.8736720681190491),\n",
       " ('Toyota Prius v', 0.8294816613197327),\n",
       " ('3', 0.809768795967102)]"
      ]
     },
     "execution_count": 502,
     "metadata": {},
     "output_type": "execute_result"
    }
   ],
   "source": [
    "car_model_model.wv.most_similar('Toyota Corolla', topn=5)"
   ]
  },
  {
   "cell_type": "code",
   "execution_count": 503,
   "id": "63d953e6-72b1-41cf-8e65-b0ccd5353f17",
   "metadata": {},
   "outputs": [
    {
     "data": {
      "text/plain": [
       "[('Pontiac G3', 0.826746940612793),\n",
       " ('Mitsubishi Mighty Max Pickup', 0.8143463134765625),\n",
       " ('Volvo S70', 0.7307913303375244),\n",
       " ('Suzuki Grand Vitara', 0.7175847887992859),\n",
       " ('Mazda 6', 0.7044230103492737)]"
      ]
     },
     "execution_count": 503,
     "metadata": {},
     "output_type": "execute_result"
    }
   ],
   "source": [
    "car_model_model.wv.most_similar('Acura ILX', topn=5)"
   ]
  },
  {
   "cell_type": "code",
   "execution_count": 504,
   "id": "eead4106-4eb5-4288-a4ad-57ee4291d24b",
   "metadata": {},
   "outputs": [
    {
     "data": {
      "text/plain": [
       "[('Toyota RAV4 Hybrid', 0.8927847146987915),\n",
       " ('Ford Explorer Sport', 0.8797715306282043),\n",
       " ('CTS', 0.8325408101081848),\n",
       " ('TSX', 0.8235213756561279),\n",
       " ('Chevrolet Captiva Sport', 0.7879918813705444)]"
      ]
     },
     "execution_count": 504,
     "metadata": {},
     "output_type": "execute_result"
    }
   ],
   "source": [
    "car_model_model.wv.most_similar('Audi Q5', topn=5)"
   ]
  },
  {
   "cell_type": "markdown",
   "id": "b96a3501-efae-48fb-b191-cfc69dae0f74",
   "metadata": {},
   "source": [
    "However... note that the vocabulary here includes not just car makes and models, but ALL words from our supplied sentences matching the criteria provided."
   ]
  },
  {
   "cell_type": "code",
   "execution_count": 481,
   "id": "bfcd55c9-8cd8-41c6-9757-1bceed0237dc",
   "metadata": {},
   "outputs": [
    {
     "data": {
      "text/plain": [
       "['mpg',\n",
       " 'Luxury',\n",
       " 'Performance',\n",
       " 'Compact',\n",
       " 'Midsize',\n",
       " 'Sedan',\n",
       " '4dr',\n",
       " 'Large',\n",
       " 'Default',\n",
       " 'Hatchback']"
      ]
     },
     "execution_count": 481,
     "metadata": {},
     "output_type": "execute_result"
    }
   ],
   "source": [
    "# these represent the vocabulary words learned in the embedding\n",
    "list(car_model_model.wv.key_to_index.keys())[:10]"
   ]
  },
  {
   "cell_type": "code",
   "execution_count": 482,
   "id": "582b36a5-f07e-44df-8c33-d5b853e57c0f",
   "metadata": {},
   "outputs": [
    {
     "data": {
      "text/plain": [
       "0.34580588"
      ]
     },
     "execution_count": 482,
     "metadata": {},
     "output_type": "execute_result"
    }
   ],
   "source": [
    "car_model_model.wv.similarity('Toyota Camry', 'BMW M4')"
   ]
  },
  {
   "cell_type": "code",
   "execution_count": 483,
   "id": "06116e93-5db7-435c-b620-52c12cf9b89e",
   "metadata": {},
   "outputs": [
    {
     "data": {
      "text/plain": [
       "-0.40272263"
      ]
     },
     "execution_count": 483,
     "metadata": {},
     "output_type": "execute_result"
    }
   ],
   "source": [
    "car_model_model.wv.similarity('Toyota Camry', 'Honda Accord')"
   ]
  },
  {
   "cell_type": "code",
   "execution_count": 484,
   "id": "19d4ba7b-2516-4299-89a5-096446b0707d",
   "metadata": {},
   "outputs": [
    {
     "data": {
      "text/plain": [
       "0.054913536"
      ]
     },
     "execution_count": 484,
     "metadata": {},
     "output_type": "execute_result"
    }
   ],
   "source": [
    "car_model_model.wv.similarity('Toyota Camry', 'Honda Odyssey')"
   ]
  },
  {
   "cell_type": "code",
   "execution_count": 485,
   "id": "3c916693-a302-4ec0-8c42-fb8dab185276",
   "metadata": {},
   "outputs": [
    {
     "data": {
      "text/plain": [
       "-0.2118072"
      ]
     },
     "execution_count": 485,
     "metadata": {},
     "output_type": "execute_result"
    }
   ],
   "source": [
    "car_model_model.wv.similarity('Honda Civic', 'Toyota Corolla')"
   ]
  },
  {
   "cell_type": "code",
   "execution_count": 494,
   "id": "46ada31c-6a98-403f-918f-8bf80a8dd58a",
   "metadata": {},
   "outputs": [
    {
     "data": {
      "text/plain": [
       "[('Toyota RAV4 Hybrid', 0.8927847146987915),\n",
       " ('Ford Explorer Sport', 0.8797715306282043),\n",
       " ('CTS', 0.8325408101081848),\n",
       " ('TSX', 0.8235213756561279),\n",
       " ('Chevrolet Captiva Sport', 0.7879918813705444)]"
      ]
     },
     "execution_count": 494,
     "metadata": {},
     "output_type": "execute_result"
    }
   ],
   "source": [
    "car_model_model.wv.most_similar('Audi Q5', topn=5)"
   ]
  },
  {
   "cell_type": "code",
   "execution_count": 493,
   "id": "cec3b9c9-edab-48c6-bf36-e1a479ee84e7",
   "metadata": {},
   "outputs": [
    {
     "data": {
      "text/html": [
       "<div>\n",
       "<style scoped>\n",
       "    .dataframe tbody tr th:only-of-type {\n",
       "        vertical-align: middle;\n",
       "    }\n",
       "\n",
       "    .dataframe tbody tr th {\n",
       "        vertical-align: top;\n",
       "    }\n",
       "\n",
       "    .dataframe thead th {\n",
       "        text-align: right;\n",
       "    }\n",
       "</style>\n",
       "<table border=\"1\" class=\"dataframe\">\n",
       "  <thead>\n",
       "    <tr style=\"text-align: right;\">\n",
       "      <th></th>\n",
       "      <th>highway_mpg</th>\n",
       "      <th>market_category</th>\n",
       "      <th>vehicle_size</th>\n",
       "      <th>vehicle_style</th>\n",
       "      <th>make_model</th>\n",
       "    </tr>\n",
       "  </thead>\n",
       "  <tbody>\n",
       "    <tr>\n",
       "      <th>5</th>\n",
       "      <td>27 mpg</td>\n",
       "      <td>Crossover,Luxury</td>\n",
       "      <td>Midsize</td>\n",
       "      <td>4dr SUV</td>\n",
       "      <td>Acura MDX</td>\n",
       "    </tr>\n",
       "    <tr>\n",
       "      <th>45</th>\n",
       "      <td>26 mpg</td>\n",
       "      <td>Crossover,Luxury</td>\n",
       "      <td>Midsize</td>\n",
       "      <td>4dr SUV</td>\n",
       "      <td>Audi Q5</td>\n",
       "    </tr>\n",
       "    <tr>\n",
       "      <th>325</th>\n",
       "      <td>18 mpg</td>\n",
       "      <td>Default</td>\n",
       "      <td>Midsize</td>\n",
       "      <td>2dr SUV</td>\n",
       "      <td>Ford Explorer Sport</td>\n",
       "    </tr>\n",
       "    <tr>\n",
       "      <th>860</th>\n",
       "      <td>31 mpg</td>\n",
       "      <td>Crossover,Hybrid</td>\n",
       "      <td>Midsize</td>\n",
       "      <td>4dr SUV</td>\n",
       "      <td>Toyota RAV4 Hybrid</td>\n",
       "    </tr>\n",
       "  </tbody>\n",
       "</table>\n",
       "</div>"
      ],
      "text/plain": [
       "    highway_mpg   market_category vehicle_size vehicle_style  \\\n",
       "5        27 mpg  Crossover,Luxury      Midsize       4dr SUV   \n",
       "45       26 mpg  Crossover,Luxury      Midsize       4dr SUV   \n",
       "325      18 mpg           Default      Midsize       2dr SUV   \n",
       "860      31 mpg  Crossover,Hybrid      Midsize       4dr SUV   \n",
       "\n",
       "              make_model  \n",
       "5              Acura MDX  \n",
       "45               Audi Q5  \n",
       "325  Ford Explorer Sport  \n",
       "860   Toyota RAV4 Hybrid  "
      ]
     },
     "execution_count": 493,
     "metadata": {},
     "output_type": "execute_result"
    }
   ],
   "source": [
    "df_train[df_train['make_model'].isin(['Audi Q5', 'Toyota RAV4 Hybrid', 'Ford Explorer Sport', 'Acura MDX',])]"
   ]
  },
  {
   "cell_type": "code",
   "execution_count": 505,
   "id": "e88e0b17-6759-493f-9c14-0fcc89931b11",
   "metadata": {},
   "outputs": [
    {
     "data": {
      "text/plain": [
       "-0.10118388"
      ]
     },
     "execution_count": 505,
     "metadata": {},
     "output_type": "execute_result"
    }
   ],
   "source": [
    "car_model_model.wv.similarity('Audi Q5', 'Acura MDX')"
   ]
  },
  {
   "cell_type": "markdown",
   "id": "4a99554a-2211-47be-9a9f-98504ee4a9b0",
   "metadata": {},
   "source": [
    "This methodology is definitely not doing what we want it to do as it's unable to classify the Audi Q5 and Acura MDX as similar to one another."
   ]
  },
  {
   "cell_type": "code",
   "execution_count": null,
   "id": "e7c5e17c-9ee9-448f-829f-fbc7d2a72387",
   "metadata": {},
   "outputs": [],
   "source": []
  }
 ],
 "metadata": {
  "kernelspec": {
   "display_name": "Python 3 (ipykernel)",
   "language": "python",
   "name": "python3"
  },
  "language_info": {
   "codemirror_mode": {
    "name": "ipython",
    "version": 3
   },
   "file_extension": ".py",
   "mimetype": "text/x-python",
   "name": "python",
   "nbconvert_exporter": "python",
   "pygments_lexer": "ipython3",
   "version": "3.9.16"
  }
 },
 "nbformat": 4,
 "nbformat_minor": 5
}
